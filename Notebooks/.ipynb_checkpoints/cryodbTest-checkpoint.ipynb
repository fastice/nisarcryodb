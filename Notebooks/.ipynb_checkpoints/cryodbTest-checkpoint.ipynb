{
 "cells": [
  {
   "cell_type": "markdown",
   "id": "a4009c32-3df3-479a-acd3-292396ced6a8",
   "metadata": {},
   "source": [
    "# Test Notebook for nisarcryodb\n",
    "---"
   ]
  },
  {
   "cell_type": "markdown",
   "id": "4966aafa-6b7d-44ce-87b0-4d329323c571",
   "metadata": {},
   "source": [
    "This note book is used to develop, test, and document the  `nisarcryodb` class, which is used to query the NISAR cal/val db for GPS data from cryosphere validation sites.\n"
   ]
  },
  {
   "cell_type": "code",
   "execution_count": 18,
   "id": "973ece80-b9a1-441d-af15-f06b72f23778",
   "metadata": {},
   "outputs": [
    {
     "name": "stdout",
     "output_type": "stream",
     "text": [
      "The autoreload extension is already loaded. To reload it, use:\n",
      "  %reload_ext autoreload\n"
     ]
    }
   ],
   "source": [
    "%load_ext autoreload\n",
    "%autoreload 2\n",
    "import nisarcryodb\n",
    "from psycopg2 import sql\n",
    "import matplotlib.pyplot as plt\n",
    "import numpy as np"
   ]
  },
  {
   "cell_type": "markdown",
   "id": "1dfa7449-170a-4212-9db9-6230e147f62b",
   "metadata": {},
   "source": [
    "## Initialize nisarcryodb Object"
   ]
  },
  {
   "cell_type": "markdown",
   "id": "570ba33d-c077-4195-a98f-bdbe5966f151",
   "metadata": {},
   "source": [
    "This step initializes the connection to the nisar cal/val data base. It requires a cal/val database user name and passwd."
   ]
  },
  {
   "cell_type": "code",
   "execution_count": 19,
   "id": "430c13a6-7734-49d3-8e17-9d7182b64f06",
   "metadata": {},
   "outputs": [
    {
     "name": "stdin",
     "output_type": "stream",
     "text": [
      "User name:  irj\n",
      "Password:  ········\n"
     ]
    }
   ],
   "source": [
    "myConnection = nisarcryodb.nisarcryodb()"
   ]
  },
  {
   "cell_type": "markdown",
   "id": "97f7a422-97c6-452b-9080-a0036e7c3a55",
   "metadata": {},
   "source": [
    "## List Schema"
   ]
  },
  {
   "cell_type": "markdown",
   "id": "a5a45e0e-4865-4076-a1c6-4fa7a8a1135c",
   "metadata": {},
   "source": [
    "List all of the schema in the database. "
   ]
  },
  {
   "cell_type": "code",
   "execution_count": 20,
   "id": "a6ade660-b5aa-461d-bc61-fcce6b07099e",
   "metadata": {},
   "outputs": [
    {
     "name": "stdout",
     "output_type": "stream",
     "text": [
      "pg_catalog\n",
      "information_schema\n",
      "soil_moisture\n",
      "pg_temp_7\n",
      "pg_toast_temp_7\n",
      "pg_temp_8\n",
      "pg_toast_temp_8\n",
      "disturbance\n",
      "corner_reflectors\n",
      "landice\n",
      "solidearth\n",
      "crop_area\n",
      "inundation\n",
      "pg_temp_16\n",
      "pg_toast_temp_16\n",
      "biomass\n",
      "seaice\n",
      "nisar\n",
      "permafrost\n",
      "tiger\n",
      "tiger_data\n",
      "topology\n",
      "public\n"
     ]
    }
   ],
   "source": [
    "schemas = myConnection.listSchema(quiet=False)"
   ]
  },
  {
   "cell_type": "markdown",
   "id": "b4cb818c-c90d-490b-8c69-75c63d31c36e",
   "metadata": {},
   "source": [
    "## List Table Names for Schema"
   ]
  },
  {
   "cell_type": "markdown",
   "id": "1b592474-296b-4762-afcc-1c9f583bf899",
   "metadata": {},
   "source": [
    "List the names of the table under the landice schema."
   ]
  },
  {
   "cell_type": "code",
   "execution_count": 21,
   "id": "2b7ac1ee-16a3-47c7-af2c-b7903e096eac",
   "metadata": {
    "scrolled": true
   },
   "outputs": [
    {
     "name": "stdout",
     "output_type": "stream",
     "text": [
      "requirement\n",
      "site\n",
      "gps_data\n",
      "gps_data_version\n",
      "l3_product\n",
      "gps_test_data\n",
      "l3_product_calval_site_jct\n",
      "l3_product_requirement_jct\n",
      "validation_run\n",
      "validation_run_gps_data_jct\n",
      "velocity_data\n",
      "gps_station\n"
     ]
    }
   ],
   "source": [
    "myConnection.listSchemaTableNames('landice');"
   ]
  },
  {
   "cell_type": "markdown",
   "id": "43d86472-d507-47b8-8c43-eeb14493c532",
   "metadata": {},
   "source": [
    "## List Column Names for Table"
   ]
  },
  {
   "cell_type": "markdown",
   "id": "50af3c77-4328-4227-9050-805c5e932d93",
   "metadata": {},
   "source": [
    "List the column names for a table (e.g., gps_station) and schema (e.g., landice)."
   ]
  },
  {
   "cell_type": "code",
   "execution_count": 22,
   "id": "48826cf5-04a0-481b-ac93-6e9e0ff2a9a0",
   "metadata": {},
   "outputs": [
    {
     "name": "stdout",
     "output_type": "stream",
     "text": [
      "station_id, station_name, reflat, reflon, refheight, poc_name, poc_email, station_geom, site_id\n"
     ]
    }
   ],
   "source": [
    "stationColumns = myConnection.listTableColumns('landice', 'gps_station', quiet=False)"
   ]
  },
  {
   "cell_type": "markdown",
   "id": "0aa6ccf8-3d1e-40ad-9c1d-bfc660fc14c5",
   "metadata": {},
   "source": [
    "This time get the columns for the gps_data table. Use `returnType=True` to get the data type for each column."
   ]
  },
  {
   "cell_type": "code",
   "execution_count": 23,
   "id": "4a9c03bb-92e2-4b77-a5bb-c812d5efb201",
   "metadata": {},
   "outputs": [
    {
     "name": "stdout",
     "output_type": "stream",
     "text": [
      "gps_data_id, station_id, version_id, date_uploaded, measurement_dt_utc, decimal_year, nominal_doy, lat, lon, ht_abv_eps, sigma_e, sigma_n, sigma_v, data_geom\n",
      "integer, integer, integer, date, timestamp without time zone, double precision, integer, double precision, double precision, double precision, real, real, real, USER-DEFINED\n"
     ]
    }
   ],
   "source": [
    "gpsColumns, gpsDataTypes = myConnection.listTableColumns('landice', 'gps_data', returnType=True)"
   ]
  },
  {
   "cell_type": "markdown",
   "id": "fc5f46a1-e626-48d9-bdb4-a2d378244f23",
   "metadata": {},
   "source": [
    "## List Column Values"
   ]
  },
  {
   "cell_type": "markdown",
   "id": "5efd32bf-c697-4e60-9479-7b86ea815593",
   "metadata": {},
   "source": [
    "Get the `station_name` column values for `landice.gps_station` tables. Select only those that begin with \"N\"."
   ]
  },
  {
   "cell_type": "code",
   "execution_count": 30,
   "id": "5aa122d4-825f-44f8-9482-ee3f53ab0364",
   "metadata": {},
   "outputs": [
    {
     "data": {
      "text/plain": [
       "['NIU1',\n",
       " 'NIU2',\n",
       " 'NIU3',\n",
       " 'NIU4',\n",
       " 'NIU5',\n",
       " 'NIT0',\n",
       " 'NIT1',\n",
       " 'NIT2',\n",
       " 'NIT3',\n",
       " 'NIT4',\n",
       " 'NIT5',\n",
       " 'NIL1',\n",
       " 'NIL2',\n",
       " 'NIL3',\n",
       " 'NIL4',\n",
       " 'NIL5',\n",
       " 'NIT7']"
      ]
     },
     "execution_count": 30,
     "metadata": {},
     "output_type": "execute_result"
    }
   ],
   "source": [
    "stationNames = myConnection.getColumn('landice', 'gps_station', 'station_name')\n",
    "[station for station in stationNames if station.startswith(\"N\")]"
   ]
  },
  {
   "cell_type": "markdown",
   "id": "3127c357-68ae-4e44-9593-610896d18231",
   "metadata": {},
   "source": [
    "Get the `latitude` column values for `landice.gps_data` tables "
   ]
  },
  {
   "cell_type": "code",
   "execution_count": 31,
   "id": "700542bc-073e-4c7c-a323-a50aa76615ee",
   "metadata": {},
   "outputs": [
    {
     "data": {
      "text/plain": [
       "[68.87457898,\n",
       " 68.87457901,\n",
       " 68.87457901,\n",
       " 68.87457895,\n",
       " 68.87457897,\n",
       " 68.87457899,\n",
       " 68.87457895,\n",
       " 68.87457899,\n",
       " 68.87457904,\n",
       " 68.87457906]"
      ]
     },
     "execution_count": 31,
     "metadata": {},
     "output_type": "execute_result"
    }
   ],
   "source": [
    "lat = myConnection.getColumn('landice', 'gps_data', 'lat');\n",
    "lat[0:10]"
   ]
  },
  {
   "cell_type": "markdown",
   "id": "b09c6713-a2d5-4fa0-84e6-5a136371b4fa",
   "metadata": {},
   "source": [
    "## Station Name to ID"
   ]
  },
  {
   "cell_type": "markdown",
   "id": "2a4df152-e5ed-4030-b95c-d604e8cb8668",
   "metadata": {},
   "source": [
    "Determine the station ID (e.g., 22) from the station name (e.g., LORG)."
   ]
  },
  {
   "cell_type": "code",
   "execution_count": 32,
   "id": "de594b00-91c3-406f-ab6b-b00369c16331",
   "metadata": {},
   "outputs": [
    {
     "data": {
      "text/plain": [
       "9"
      ]
     },
     "execution_count": 32,
     "metadata": {},
     "output_type": "execute_result"
    }
   ],
   "source": [
    "myConnection.stationNameToID('NIL3')"
   ]
  },
  {
   "cell_type": "markdown",
   "id": "6a7782d3-260b-4535-90fe-3b7baf01e56a",
   "metadata": {},
   "source": [
    "## Get GPS Data for Date Range"
   ]
  },
  {
   "cell_type": "markdown",
   "id": "ac04c895-57dc-4af4-b506-7d54111e399f",
   "metadata": {},
   "source": [
    "Return all the data for a designated station for the decimal date range (d1, d2). "
   ]
  },
  {
   "cell_type": "code",
   "execution_count": 33,
   "id": "d057ba8f-6517-47ff-8352-1c55902f361b",
   "metadata": {},
   "outputs": [],
   "source": [
    "d1 = 2024.8165544457129-1\n",
    "d2 = 2025.819178050482+1\n",
    "myData = myConnection.getStationDateRangeData('NIL3', d1, d2, schemaName='landice', tableName='gps_data')"
   ]
  },
  {
   "cell_type": "code",
   "execution_count": 34,
   "id": "0653a1b7-92f7-4c40-9f3e-4adbc63f6aa3",
   "metadata": {},
   "outputs": [
    {
     "data": {
      "text/plain": [
       "Text(0, 0.5, 'latitude')"
      ]
     },
     "execution_count": 34,
     "metadata": {},
     "output_type": "execute_result"
    },
    {
     "data": {
      "image/png": "[encoded data removed]",
      "text/plain": [
       "<Figure size 640x480 with 1 Axes>"
      ]
     },
     "metadata": {},
     "output_type": "display_data"
    }
   ],
   "source": [
    "plt.plot(myData['lon'], myData['lat'], 'r.')\n",
    "plt.xlabel('longitude')\n",
    "plt.ylabel('latitude')"
   ]
  },
  {
   "cell_type": "markdown",
   "id": "e5741c51-946a-47fe-82a4-240a198a0f86",
   "metadata": {},
   "source": [
    "## Get Station Information"
   ]
  },
  {
   "cell_type": "markdown",
   "id": "51b6aad0-0dc4-4d9d-bfe9-3ca7d026596d",
   "metadata": {},
   "source": [
    "Return the table with all of the top-level station data (e.g,, name, id, position, etc)."
   ]
  },
  {
   "cell_type": "code",
   "execution_count": 35,
   "id": "c4ff4375-c97a-4578-ac90-47bdde2c586a",
   "metadata": {},
   "outputs": [
    {
     "name": "stdout",
     "output_type": "stream",
     "text": [
      "SELECT * FROM landice.gps_station ;\n"
     ]
    },
    {
     "data": {
      "text/html": [
       "<div>\n",
       "<style scoped>\n",
       "    .dataframe tbody tr th:only-of-type {\n",
       "        vertical-align: middle;\n",
       "    }\n",
       "\n",
       "    .dataframe tbody tr th {\n",
       "        vertical-align: top;\n",
       "    }\n",
       "\n",
       "    .dataframe thead th {\n",
       "        text-align: right;\n",
       "    }\n",
       "</style>\n",
       "<table border=\"1\" class=\"dataframe\">\n",
       "  <thead>\n",
       "    <tr style=\"text-align: right;\">\n",
       "      <th></th>\n",
       "      <th>station_id</th>\n",
       "      <th>station_name</th>\n",
       "      <th>reflat</th>\n",
       "      <th>reflon</th>\n",
       "      <th>refheight</th>\n",
       "      <th>poc_name</th>\n",
       "      <th>poc_email</th>\n",
       "      <th>station_geom</th>\n",
       "      <th>site_id</th>\n",
       "    </tr>\n",
       "  </thead>\n",
       "  <tbody>\n",
       "    <tr>\n",
       "      <th>0</th>\n",
       "      <td>28</td>\n",
       "      <td>test_station_04</td>\n",
       "      <td>-76.362527</td>\n",
       "      <td>-113.016636</td>\n",
       "      <td>1285.966</td>\n",
       "      <td>None</td>\n",
       "      <td>None</td>\n",
       "      <td>0101000020E61000003303AE8E10415CC0988D08A53317...</td>\n",
       "      <td>3</td>\n",
       "    </tr>\n",
       "    <tr>\n",
       "      <th>1</th>\n",
       "      <td>29</td>\n",
       "      <td>test_station_05</td>\n",
       "      <td>-76.529492</td>\n",
       "      <td>-113.321411</td>\n",
       "      <td>1286.713</td>\n",
       "      <td>None</td>\n",
       "      <td>None</td>\n",
       "      <td>0101000020E6100000DF11DBFE91545CC06E60BC30E321...</td>\n",
       "      <td>3</td>\n",
       "    </tr>\n",
       "    <tr>\n",
       "      <th>2</th>\n",
       "      <td>30</td>\n",
       "      <td>test_station_06</td>\n",
       "      <td>-76.696124</td>\n",
       "      <td>-113.633897</td>\n",
       "      <td>1282.002</td>\n",
       "      <td>None</td>\n",
       "      <td>None</td>\n",
       "      <td>0101000020E610000077C45BC691685CC07637EC4A8D2C...</td>\n",
       "      <td>3</td>\n",
       "    </tr>\n",
       "    <tr>\n",
       "      <th>3</th>\n",
       "      <td>31</td>\n",
       "      <td>test_station_07</td>\n",
       "      <td>-76.862408</td>\n",
       "      <td>-113.954372</td>\n",
       "      <td>1296.276</td>\n",
       "      <td>None</td>\n",
       "      <td>None</td>\n",
       "      <td>0101000020E6100000C6B3786F147D5CC06A1AD2B03137...</td>\n",
       "      <td>3</td>\n",
       "    </tr>\n",
       "    <tr>\n",
       "      <th>4</th>\n",
       "      <td>32</td>\n",
       "      <td>test_station_08</td>\n",
       "      <td>-75.758186</td>\n",
       "      <td>-111.185644</td>\n",
       "      <td>851.224</td>\n",
       "      <td>None</td>\n",
       "      <td>None</td>\n",
       "      <td>0101000020E610000078A3A896E1CB5BC00C955E1F86F0...</td>\n",
       "      <td>3</td>\n",
       "    </tr>\n",
       "    <tr>\n",
       "      <th>...</th>\n",
       "      <td>...</td>\n",
       "      <td>...</td>\n",
       "      <td>...</td>\n",
       "      <td>...</td>\n",
       "      <td>...</td>\n",
       "      <td>...</td>\n",
       "      <td>...</td>\n",
       "      <td>...</td>\n",
       "      <td>...</td>\n",
       "    </tr>\n",
       "    <tr>\n",
       "      <th>70</th>\n",
       "      <td>76</td>\n",
       "      <td>test_station_52</td>\n",
       "      <td>-76.750306</td>\n",
       "      <td>-108.635458</td>\n",
       "      <td>1137.159</td>\n",
       "      <td>None</td>\n",
       "      <td>None</td>\n",
       "      <td>0101000020E61000001188BE58AB285BC05DEB62050530...</td>\n",
       "      <td>3</td>\n",
       "    </tr>\n",
       "    <tr>\n",
       "      <th>71</th>\n",
       "      <td>77</td>\n",
       "      <td>test_station_53</td>\n",
       "      <td>-76.922398</td>\n",
       "      <td>-108.892086</td>\n",
       "      <td>1181.641</td>\n",
       "      <td>None</td>\n",
       "      <td>None</td>\n",
       "      <td>0101000020E61000006BED22F117395BC0F97CBD90083B...</td>\n",
       "      <td>3</td>\n",
       "    </tr>\n",
       "    <tr>\n",
       "      <th>72</th>\n",
       "      <td>78</td>\n",
       "      <td>test_station_54</td>\n",
       "      <td>-77.094279</td>\n",
       "      <td>-109.155612</td>\n",
       "      <td>1198.846</td>\n",
       "      <td>None</td>\n",
       "      <td>None</td>\n",
       "      <td>0101000020E61000006EE6EB8DF5495BC0F969FDA90846...</td>\n",
       "      <td>3</td>\n",
       "    </tr>\n",
       "    <tr>\n",
       "      <th>73</th>\n",
       "      <td>79</td>\n",
       "      <td>test_station_55</td>\n",
       "      <td>-77.265938</td>\n",
       "      <td>-109.426307</td>\n",
       "      <td>1205.697</td>\n",
       "      <td>None</td>\n",
       "      <td>None</td>\n",
       "      <td>0101000020E6100000C963BC9C485B5BC07D6E2E1F0551...</td>\n",
       "      <td>3</td>\n",
       "    </tr>\n",
       "    <tr>\n",
       "      <th>74</th>\n",
       "      <td>80</td>\n",
       "      <td>NIT7</td>\n",
       "      <td>-70.643255</td>\n",
       "      <td>26.294861</td>\n",
       "      <td>63.096</td>\n",
       "      <td>None</td>\n",
       "      <td>None</td>\n",
       "      <td>0101000020E610000055B58B067C4B3A40649590172BA9...</td>\n",
       "      <td>1</td>\n",
       "    </tr>\n",
       "  </tbody>\n",
       "</table>\n",
       "<p>75 rows × 9 columns</p>\n",
       "</div>"
      ],
      "text/plain": [
       "    station_id     station_name     reflat      reflon  refheight poc_name  \\\n",
       "0           28  test_station_04 -76.362527 -113.016636   1285.966     None   \n",
       "1           29  test_station_05 -76.529492 -113.321411   1286.713     None   \n",
       "2           30  test_station_06 -76.696124 -113.633897   1282.002     None   \n",
       "3           31  test_station_07 -76.862408 -113.954372   1296.276     None   \n",
       "4           32  test_station_08 -75.758186 -111.185644    851.224     None   \n",
       "..         ...              ...        ...         ...        ...      ...   \n",
       "70          76  test_station_52 -76.750306 -108.635458   1137.159     None   \n",
       "71          77  test_station_53 -76.922398 -108.892086   1181.641     None   \n",
       "72          78  test_station_54 -77.094279 -109.155612   1198.846     None   \n",
       "73          79  test_station_55 -77.265938 -109.426307   1205.697     None   \n",
       "74          80             NIT7 -70.643255   26.294861     63.096     None   \n",
       "\n",
       "   poc_email                                       station_geom  site_id  \n",
       "0       None  0101000020E61000003303AE8E10415CC0988D08A53317...        3  \n",
       "1       None  0101000020E6100000DF11DBFE91545CC06E60BC30E321...        3  \n",
       "2       None  0101000020E610000077C45BC691685CC07637EC4A8D2C...        3  \n",
       "3       None  0101000020E6100000C6B3786F147D5CC06A1AD2B03137...        3  \n",
       "4       None  0101000020E610000078A3A896E1CB5BC00C955E1F86F0...        3  \n",
       "..       ...                                                ...      ...  \n",
       "70      None  0101000020E61000001188BE58AB285BC05DEB62050530...        3  \n",
       "71      None  0101000020E61000006BED22F117395BC0F97CBD90083B...        3  \n",
       "72      None  0101000020E61000006EE6EB8DF5495BC0F969FDA90846...        3  \n",
       "73      None  0101000020E6100000C963BC9C485B5BC07D6E2E1F0551...        3  \n",
       "74      None  0101000020E610000055B58B067C4B3A40649590172BA9...        1  \n",
       "\n",
       "[75 rows x 9 columns]"
      ]
     },
     "execution_count": 35,
     "metadata": {},
     "output_type": "execute_result"
    }
   ],
   "source": [
    "myConnection.getTableListing(schemaName='landice', tableName='gps_station')"
   ]
  },
  {
   "cell_type": "markdown",
   "id": "0a89dac7-ad4d-42d0-86d5-be39cd588223",
   "metadata": {},
   "source": [
    "## Get Level 3 Products"
   ]
  },
  {
   "cell_type": "markdown",
   "id": "5705036e-58be-4787-8e07-cc7134f3e238",
   "metadata": {},
   "source": [
    "Get all L3 products from 2015 to 2023. Filters can be specified by column heading and value (e.g., `filters={'measurement_type': 'velocity'}`. Wild can be set off with % signs. For example, to list only the velocity files with 'vx' in the name will be accomplished by `filters={'product_path': '%vx%'}`."
   ]
  },
  {
   "cell_type": "code",
   "execution_count": 36,
   "id": "45a5a265-babc-47a4-8450-eb0bbb2d0010",
   "metadata": {},
   "outputs": [
    {
     "name": "stdout",
     "output_type": "stream",
     "text": [
      "product_path\n",
      "measurement_type\n"
     ]
    },
    {
     "data": {
      "text/html": [
       "<div>\n",
       "<style scoped>\n",
       "    .dataframe tbody tr th:only-of-type {\n",
       "        vertical-align: middle;\n",
       "    }\n",
       "\n",
       "    .dataframe tbody tr th {\n",
       "        vertical-align: top;\n",
       "    }\n",
       "\n",
       "    .dataframe thead th {\n",
       "        text-align: right;\n",
       "    }\n",
       "</style>\n",
       "<table border=\"1\" class=\"dataframe\">\n",
       "  <thead>\n",
       "    <tr style=\"text-align: right;\">\n",
       "      <th></th>\n",
       "      <th>product_id</th>\n",
       "      <th>start_date</th>\n",
       "      <th>end_date</th>\n",
       "      <th>resolution</th>\n",
       "      <th>accuracy</th>\n",
       "      <th>measurement_type</th>\n",
       "      <th>provider</th>\n",
       "      <th>product_type</th>\n",
       "      <th>product_path</th>\n",
       "      <th>product_version</th>\n",
       "      <th>software_version</th>\n",
       "      <th>config_file_path</th>\n",
       "      <th>date_created</th>\n",
       "      <th>archived</th>\n",
       "      <th>location_geom</th>\n",
       "      <th>notes</th>\n",
       "    </tr>\n",
       "  </thead>\n",
       "  <tbody>\n",
       "    <tr>\n",
       "      <th>0</th>\n",
       "      <td>2</td>\n",
       "      <td>2016-12-01</td>\n",
       "      <td>2017-11-30</td>\n",
       "      <td>None</td>\n",
       "      <td>None</td>\n",
       "      <td>velocity</td>\n",
       "      <td>None</td>\n",
       "      <td>test</td>\n",
       "      <td>s3://nisar-st-cryosphere-validation/test/veloc...</td>\n",
       "      <td>None</td>\n",
       "      <td>None</td>\n",
       "      <td>None</td>\n",
       "      <td>None</td>\n",
       "      <td>None</td>\n",
       "      <td>0106000020E61000000100000001030000000100000013...</td>\n",
       "      <td>test</td>\n",
       "    </tr>\n",
       "    <tr>\n",
       "      <th>1</th>\n",
       "      <td>5</td>\n",
       "      <td>2017-12-01</td>\n",
       "      <td>2018-11-30</td>\n",
       "      <td>None</td>\n",
       "      <td>None</td>\n",
       "      <td>velocity</td>\n",
       "      <td>None</td>\n",
       "      <td>test</td>\n",
       "      <td>s3://nisar-st-cryosphere-validation/test/veloc...</td>\n",
       "      <td>None</td>\n",
       "      <td>None</td>\n",
       "      <td>None</td>\n",
       "      <td>None</td>\n",
       "      <td>None</td>\n",
       "      <td>0106000020E61000000100000001030000000100000013...</td>\n",
       "      <td>test</td>\n",
       "    </tr>\n",
       "    <tr>\n",
       "      <th>2</th>\n",
       "      <td>8</td>\n",
       "      <td>2018-12-01</td>\n",
       "      <td>2019-11-30</td>\n",
       "      <td>None</td>\n",
       "      <td>None</td>\n",
       "      <td>velocity</td>\n",
       "      <td>None</td>\n",
       "      <td>test</td>\n",
       "      <td>s3://nisar-st-cryosphere-validation/test/veloc...</td>\n",
       "      <td>None</td>\n",
       "      <td>None</td>\n",
       "      <td>None</td>\n",
       "      <td>None</td>\n",
       "      <td>None</td>\n",
       "      <td>0106000020E61000000100000001030000000100000013...</td>\n",
       "      <td>test</td>\n",
       "    </tr>\n",
       "  </tbody>\n",
       "</table>\n",
       "</div>"
      ],
      "text/plain": [
       "   product_id  start_date    end_date resolution accuracy measurement_type  \\\n",
       "0           2  2016-12-01  2017-11-30       None     None         velocity   \n",
       "1           5  2017-12-01  2018-11-30       None     None         velocity   \n",
       "2           8  2018-12-01  2019-11-30       None     None         velocity   \n",
       "\n",
       "  provider product_type                                       product_path  \\\n",
       "0     None         test  s3://nisar-st-cryosphere-validation/test/veloc...   \n",
       "1     None         test  s3://nisar-st-cryosphere-validation/test/veloc...   \n",
       "2     None         test  s3://nisar-st-cryosphere-validation/test/veloc...   \n",
       "\n",
       "  product_version software_version config_file_path date_created archived  \\\n",
       "0            None             None             None         None     None   \n",
       "1            None             None             None         None     None   \n",
       "2            None             None             None         None     None   \n",
       "\n",
       "                                       location_geom notes  \n",
       "0  0106000020E61000000100000001030000000100000013...  test  \n",
       "1  0106000020E61000000100000001030000000100000013...  test  \n",
       "2  0106000020E61000000100000001030000000100000013...  test  "
      ]
     },
     "execution_count": 36,
     "metadata": {},
     "output_type": "execute_result"
    }
   ],
   "source": [
    "date1 = '01-01-2015'\n",
    "date2 = '12-31-2023'\n",
    "myConnection.getL3DateRangeData(date1, date2, schemaName='landice', tableName='l3_product', filters={'product_path': '%vx%', 'measurement_type': 'velocity'})"
   ]
  },
  {
   "cell_type": "markdown",
   "id": "b57e7b2b-dd6b-47ec-a277-bf1ab078f4d2",
   "metadata": {},
   "source": [
    "## Rollback a Query Error"
   ]
  },
  {
   "cell_type": "markdown",
   "id": "f3c4d817-c3c5-4183-a9db-774aa6b5904d",
   "metadata": {},
   "source": [
    "This will reset the connection after a query fails with an error. Most of the routines should trap errors and automatically rollback."
   ]
  },
  {
   "cell_type": "code",
   "execution_count": 37,
   "id": "652c20b7-9dcb-4fc3-a338-de3c26c3d1cb",
   "metadata": {},
   "outputs": [],
   "source": [
    "myConnection.connection.rollback()"
   ]
  },
  {
   "cell_type": "markdown",
   "id": "91507858-0874-48ef-a081-0cef7f18155a",
   "metadata": {},
   "source": [
    "## Close the connection"
   ]
  },
  {
   "cell_type": "markdown",
   "id": "ec220417-262c-4244-92b1-536a4502107f",
   "metadata": {},
   "source": [
    "Close the connection when finished."
   ]
  },
  {
   "cell_type": "code",
   "execution_count": 38,
   "id": "af931088-36c0-4762-885f-bd99dee455c5",
   "metadata": {},
   "outputs": [],
   "source": [
    "myConnection.close()"
   ]
  },
  {
   "cell_type": "code",
   "execution_count": null,
   "id": "d092d42f-37ab-47b0-b564-ad40fd1f7843",
   "metadata": {},
   "outputs": [],
   "source": []
  }
 ],
 "metadata": {
  "kernelspec": {
   "display_name": "base",
   "language": "python",
   "name": "base"
  },
  "language_info": {
   "codemirror_mode": {
    "name": "ipython",
    "version": 3
   },
   "file_extension": ".py",
   "mimetype": "text/x-python",
   "name": "python",
   "nbconvert_exporter": "python",
   "pygments_lexer": "ipython3",
   "version": "3.12.11"
  }
 },
 "nbformat": 4,
 "nbformat_minor": 5
}
