{
 "cells": [
  {
   "cell_type": "markdown",
   "id": "a4009c32-3df3-479a-acd3-292396ced6a8",
   "metadata": {},
   "source": [
    "# Test Notebook for nisarcryodb\n",
    "---"
   ]
  },
  {
   "cell_type": "markdown",
   "id": "4966aafa-6b7d-44ce-87b0-4d329323c571",
   "metadata": {},
   "source": [
    "This note book is used to develop, test, and document the  `nisarcryodb` class, which is used to query the NISAR cal/val db for GPS data from cryosphere validation sites.\n"
   ]
  },
  {
   "cell_type": "code",
   "execution_count": 1,
   "id": "973ece80-b9a1-441d-af15-f06b72f23778",
   "metadata": {},
   "outputs": [],
   "source": [
    "%load_ext autoreload\n",
    "%autoreload 2\n",
    "import nisarcryodb\n",
    "from psycopg2 import sql\n",
    "import matplotlib.pyplot as plt\n",
    "import numpy as np"
   ]
  },
  {
   "cell_type": "markdown",
   "id": "1dfa7449-170a-4212-9db9-6230e147f62b",
   "metadata": {},
   "source": [
    "## Initialize nisarcryodb Object"
   ]
  },
  {
   "cell_type": "markdown",
   "id": "570ba33d-c077-4195-a98f-bdbe5966f151",
   "metadata": {},
   "source": [
    "This step initializes the connection to the nisar cal/val data base. It requires a cal/val database user name and passwd."
   ]
  },
  {
   "cell_type": "code",
   "execution_count": 2,
   "id": "430c13a6-7734-49d3-8e17-9d7182b64f06",
   "metadata": {},
   "outputs": [
    {
     "name": "stdin",
     "output_type": "stream",
     "text": [
      "User name:  irj\n",
      "Password:  ········\n"
     ]
    }
   ],
   "source": [
    "myConnection = nisarcryodb.nisarcryodb()"
   ]
  },
  {
   "cell_type": "markdown",
   "id": "97f7a422-97c6-452b-9080-a0036e7c3a55",
   "metadata": {},
   "source": [
    "## List Schema"
   ]
  },
  {
   "cell_type": "markdown",
   "id": "a5a45e0e-4865-4076-a1c6-4fa7a8a1135c",
   "metadata": {},
   "source": [
    "List all of the schema in the database. "
   ]
  },
  {
   "cell_type": "code",
   "execution_count": 3,
   "id": "a6ade660-b5aa-461d-bc61-fcce6b07099e",
   "metadata": {},
   "outputs": [
    {
     "name": "stdout",
     "output_type": "stream",
     "text": [
      "pg_catalog\n",
      "information_schema\n",
      "soil_moisture\n",
      "pg_temp_7\n",
      "pg_toast_temp_7\n",
      "pg_temp_8\n",
      "pg_toast_temp_8\n",
      "disturbance\n",
      "corner_reflectors\n",
      "landice\n",
      "solidearth\n",
      "crop_area\n",
      "inundation\n",
      "pg_temp_16\n",
      "pg_toast_temp_16\n",
      "biomass\n",
      "seaice\n",
      "nisar\n",
      "permafrost\n",
      "tiger\n",
      "tiger_data\n",
      "topology\n",
      "public\n"
     ]
    }
   ],
   "source": [
    "schemas = myConnection.listSchema(quiet=False)"
   ]
  },
  {
   "cell_type": "markdown",
   "id": "b4cb818c-c90d-490b-8c69-75c63d31c36e",
   "metadata": {},
   "source": [
    "## List Table Names for Schema"
   ]
  },
  {
   "cell_type": "markdown",
   "id": "1b592474-296b-4762-afcc-1c9f583bf899",
   "metadata": {},
   "source": [
    "List the names of the table under the landice schema."
   ]
  },
  {
   "cell_type": "code",
   "execution_count": 4,
   "id": "2b7ac1ee-16a3-47c7-af2c-b7903e096eac",
   "metadata": {
    "scrolled": true
   },
   "outputs": [
    {
     "name": "stdout",
     "output_type": "stream",
     "text": [
      "site\n",
      "requirement\n",
      "gps_data\n",
      "gps_data_version\n",
      "l3_product\n",
      "gps_test_data\n",
      "l3_product_calval_site_jct\n",
      "l3_product_requirement_jct\n",
      "validation_run\n",
      "validation_run_gps_data_jct\n",
      "velocity_data\n",
      "gps_station\n"
     ]
    }
   ],
   "source": [
    "myConnection.listSchemaTableNames('landice');"
   ]
  },
  {
   "cell_type": "markdown",
   "id": "43d86472-d507-47b8-8c43-eeb14493c532",
   "metadata": {},
   "source": [
    "## List Column Names for Table"
   ]
  },
  {
   "cell_type": "markdown",
   "id": "50af3c77-4328-4227-9050-805c5e932d93",
   "metadata": {},
   "source": [
    "List the column names for a table (e.g., gps_station) and schema (e.g., landice)."
   ]
  },
  {
   "cell_type": "code",
   "execution_count": 5,
   "id": "48826cf5-04a0-481b-ac93-6e9e0ff2a9a0",
   "metadata": {},
   "outputs": [
    {
     "name": "stdout",
     "output_type": "stream",
     "text": [
      "station_id, station_name, reflat, reflon, refheight, poc_name, poc_email, station_geom, site_id\n"
     ]
    }
   ],
   "source": [
    "stationColumns = myConnection.listTableColumns('landice', 'gps_station', quiet=False)"
   ]
  },
  {
   "cell_type": "markdown",
   "id": "0aa6ccf8-3d1e-40ad-9c1d-bfc660fc14c5",
   "metadata": {},
   "source": [
    "This time get the columns for the gps_data table. Use `returnType=True` to get the data type for each column."
   ]
  },
  {
   "cell_type": "code",
   "execution_count": 6,
   "id": "4a9c03bb-92e2-4b77-a5bb-c812d5efb201",
   "metadata": {},
   "outputs": [
    {
     "name": "stdout",
     "output_type": "stream",
     "text": [
      "gps_data_id, station_id, version_id, date_uploaded, measurement_dt_utc, decimal_year, nominal_doy, lat, lon, ht_abv_eps, sigma_e, sigma_n, sigma_v, tides_x, tides_y, tides_z, data_geom\n",
      "integer, integer, integer, date, timestamp without time zone, double precision, integer, double precision, double precision, double precision, real, real, real, real, real, real, USER-DEFINED\n"
     ]
    },
    {
     "data": {
      "text/plain": [
       "['gps_data_id',\n",
       " 'station_id',\n",
       " 'version_id',\n",
       " 'date_uploaded',\n",
       " 'measurement_dt_utc',\n",
       " 'decimal_year',\n",
       " 'nominal_doy',\n",
       " 'lat',\n",
       " 'lon',\n",
       " 'ht_abv_eps',\n",
       " 'sigma_e',\n",
       " 'sigma_n',\n",
       " 'sigma_v',\n",
       " 'tides_x',\n",
       " 'tides_y',\n",
       " 'tides_z',\n",
       " 'data_geom']"
      ]
     },
     "execution_count": 6,
     "metadata": {},
     "output_type": "execute_result"
    }
   ],
   "source": [
    "gpsColumns, gpsDataTypes = myConnection.listTableColumns('landice', 'gps_data', returnType=True)\n",
    "gpsColumns"
   ]
  },
  {
   "cell_type": "markdown",
   "id": "fc5f46a1-e626-48d9-bdb4-a2d378244f23",
   "metadata": {},
   "source": [
    "## List Column Values"
   ]
  },
  {
   "cell_type": "markdown",
   "id": "5efd32bf-c697-4e60-9479-7b86ea815593",
   "metadata": {},
   "source": [
    "Get the `station_name` column values for `landice.gps_station` tables. Select only those that begin with \"N\"."
   ]
  },
  {
   "cell_type": "code",
   "execution_count": 7,
   "id": "5aa122d4-825f-44f8-9482-ee3f53ab0364",
   "metadata": {},
   "outputs": [
    {
     "data": {
      "text/plain": [
       "['NIU1',\n",
       " 'NIU2',\n",
       " 'NIU3',\n",
       " 'NIU4',\n",
       " 'NIU5',\n",
       " 'NIT0',\n",
       " 'NIT1',\n",
       " 'NIT2',\n",
       " 'NIT3',\n",
       " 'NIT4',\n",
       " 'NIT5',\n",
       " 'NIL1',\n",
       " 'NIL2',\n",
       " 'NIL3',\n",
       " 'NIL4',\n",
       " 'NIL5',\n",
       " 'NIT7']"
      ]
     },
     "execution_count": 7,
     "metadata": {},
     "output_type": "execute_result"
    }
   ],
   "source": [
    "stationNames = myConnection.getColumn('landice', 'gps_station', 'station_name')\n",
    "[station for station in stationNames if station.startswith(\"N\")]"
   ]
  },
  {
   "cell_type": "markdown",
   "id": "3127c357-68ae-4e44-9593-610896d18231",
   "metadata": {},
   "source": [
    "Get the `latitude` column values for `landice.gps_data` tables "
   ]
  },
  {
   "cell_type": "code",
   "execution_count": 8,
   "id": "700542bc-073e-4c7c-a323-a50aa76615ee",
   "metadata": {},
   "outputs": [
    {
     "data": {
      "text/plain": [
       "[68.97840725,\n",
       " 68.97840724,\n",
       " 68.9784072,\n",
       " 68.97840724,\n",
       " 68.97840721,\n",
       " 68.97840721,\n",
       " 68.97840722,\n",
       " 68.97840723,\n",
       " 68.97840729,\n",
       " 68.97840723]"
      ]
     },
     "execution_count": 8,
     "metadata": {},
     "output_type": "execute_result"
    }
   ],
   "source": [
    "lat = myConnection.getColumn('landice', 'gps_data', 'lat');\n",
    "lat[0:10]"
   ]
  },
  {
   "cell_type": "markdown",
   "id": "b09c6713-a2d5-4fa0-84e6-5a136371b4fa",
   "metadata": {},
   "source": [
    "## Station Name to ID"
   ]
  },
  {
   "cell_type": "markdown",
   "id": "2a4df152-e5ed-4030-b95c-d604e8cb8668",
   "metadata": {},
   "source": [
    "Determine the station ID (e.g., 22) from the station name (e.g., LORG)."
   ]
  },
  {
   "cell_type": "code",
   "execution_count": 9,
   "id": "de594b00-91c3-406f-ab6b-b00369c16331",
   "metadata": {},
   "outputs": [
    {
     "data": {
      "text/plain": [
       "9"
      ]
     },
     "execution_count": 9,
     "metadata": {},
     "output_type": "execute_result"
    }
   ],
   "source": [
    "myConnection.stationNameToID('NIL3')"
   ]
  },
  {
   "cell_type": "markdown",
   "id": "6a7782d3-260b-4535-90fe-3b7baf01e56a",
   "metadata": {},
   "source": [
    "## Get GPS Data for Date Range"
   ]
  },
  {
   "cell_type": "markdown",
   "id": "ac04c895-57dc-4af4-b506-7d54111e399f",
   "metadata": {},
   "source": [
    "Return all the data for a designated station for the decimal date range (d1, d2). "
   ]
  },
  {
   "cell_type": "code",
   "execution_count": 20,
   "id": "d057ba8f-6517-47ff-8352-1c55902f361b",
   "metadata": {},
   "outputs": [
    {
     "name": "stdout",
     "output_type": "stream",
     "text": [
      "SELECT * FROM landice.gps_data WHERE decimal_year BETWEEN %(val1)s AND %(val2)s AND station_id = %(station_id)s ;\n"
     ]
    }
   ],
   "source": [
    "d1 = 2024.8165544457129-1\n",
    "d2 = 2025.819178050482+1\n",
    "myData = myConnection.getStationDateRangeData('NIL3', d1, d2, schemaName='landice', tableName='gps_data')"
   ]
  },
  {
   "cell_type": "code",
   "execution_count": 17,
   "id": "0653a1b7-92f7-4c40-9f3e-4adbc63f6aa3",
   "metadata": {},
   "outputs": [
    {
     "ename": "TypeError",
     "evalue": "'NoneType' object is not subscriptable",
     "output_type": "error",
     "traceback": [
      "\u001b[0;31m---------------------------------------------------------------------------\u001b[0m",
      "\u001b[0;31mTypeError\u001b[0m                                 Traceback (most recent call last)",
      "Cell \u001b[0;32mIn[17], line 1\u001b[0m\n\u001b[0;32m----> 1\u001b[0m plt\u001b[38;5;241m.\u001b[39mplot(\u001b[43mmyData\u001b[49m\u001b[43m[\u001b[49m\u001b[38;5;124;43m'\u001b[39;49m\u001b[38;5;124;43mlon\u001b[39;49m\u001b[38;5;124;43m'\u001b[39;49m\u001b[43m]\u001b[49m, myData[\u001b[38;5;124m'\u001b[39m\u001b[38;5;124mlat\u001b[39m\u001b[38;5;124m'\u001b[39m], \u001b[38;5;124m'\u001b[39m\u001b[38;5;124mr.\u001b[39m\u001b[38;5;124m'\u001b[39m)\n\u001b[1;32m      2\u001b[0m plt\u001b[38;5;241m.\u001b[39mxlabel(\u001b[38;5;124m'\u001b[39m\u001b[38;5;124mlongitude\u001b[39m\u001b[38;5;124m'\u001b[39m)\n\u001b[1;32m      3\u001b[0m plt\u001b[38;5;241m.\u001b[39mylabel(\u001b[38;5;124m'\u001b[39m\u001b[38;5;124mlatitude\u001b[39m\u001b[38;5;124m'\u001b[39m)\n",
      "\u001b[0;31mTypeError\u001b[0m: 'NoneType' object is not subscriptable"
     ]
    }
   ],
   "source": [
    "plt.plot(myData['lon'], myData['lat'], 'r.')\n",
    "plt.xlabel('longitude')\n",
    "plt.ylabel('latitude')"
   ]
  },
  {
   "cell_type": "markdown",
   "id": "e5741c51-946a-47fe-82a4-240a198a0f86",
   "metadata": {},
   "source": [
    "## Get Station Information"
   ]
  },
  {
   "cell_type": "markdown",
   "id": "51b6aad0-0dc4-4d9d-bfe9-3ca7d026596d",
   "metadata": {},
   "source": [
    "Return the table with all of the top-level station data (e.g,, name, id, position, etc)."
   ]
  },
  {
   "cell_type": "code",
   "execution_count": null,
   "id": "c4ff4375-c97a-4578-ac90-47bdde2c586a",
   "metadata": {},
   "outputs": [],
   "source": [
    "myConnection.getTableListing(schemaName='landice', tableName='gps_station')"
   ]
  },
  {
   "cell_type": "markdown",
   "id": "0a89dac7-ad4d-42d0-86d5-be39cd588223",
   "metadata": {},
   "source": [
    "## Get Level 3 Products"
   ]
  },
  {
   "cell_type": "markdown",
   "id": "5705036e-58be-4787-8e07-cc7134f3e238",
   "metadata": {},
   "source": [
    "Get all L3 products from 2015 to 2023. Filters can be specified by column heading and value (e.g., `filters={'measurement_type': 'velocity'}`. Wild can be set off with % signs. For example, to list only the velocity files with 'vx' in the name will be accomplished by `filters={'product_path': '%vx%'}`."
   ]
  },
  {
   "cell_type": "code",
   "execution_count": null,
   "id": "45a5a265-babc-47a4-8450-eb0bbb2d0010",
   "metadata": {},
   "outputs": [],
   "source": [
    "date1 = '01-01-2015'\n",
    "date2 = '12-31-2023'\n",
    "myConnection.getL3DateRangeData(date1, date2, schemaName='landice', tableName='l3_product', filters={'product_path': '%vx%', 'measurement_type': 'velocity'})"
   ]
  },
  {
   "cell_type": "markdown",
   "id": "b57e7b2b-dd6b-47ec-a277-bf1ab078f4d2",
   "metadata": {},
   "source": [
    "## Rollback a Query Error"
   ]
  },
  {
   "cell_type": "markdown",
   "id": "f3c4d817-c3c5-4183-a9db-774aa6b5904d",
   "metadata": {},
   "source": [
    "This will reset the connection after a query fails with an error. Most of the routines should trap errors and automatically rollback."
   ]
  },
  {
   "cell_type": "code",
   "execution_count": null,
   "id": "652c20b7-9dcb-4fc3-a338-de3c26c3d1cb",
   "metadata": {},
   "outputs": [],
   "source": [
    "myConnection.connection.rollback()"
   ]
  },
  {
   "cell_type": "markdown",
   "id": "91507858-0874-48ef-a081-0cef7f18155a",
   "metadata": {},
   "source": [
    "## Close the connection"
   ]
  },
  {
   "cell_type": "markdown",
   "id": "ec220417-262c-4244-92b1-536a4502107f",
   "metadata": {},
   "source": [
    "Close the connection when finished."
   ]
  },
  {
   "cell_type": "code",
   "execution_count": null,
   "id": "af931088-36c0-4762-885f-bd99dee455c5",
   "metadata": {},
   "outputs": [],
   "source": [
    "myConnection.close()"
   ]
  },
  {
   "cell_type": "code",
   "execution_count": null,
   "id": "d092d42f-37ab-47b0-b564-ad40fd1f7843",
   "metadata": {},
   "outputs": [],
   "source": []
  }
 ],
 "metadata": {
  "kernelspec": {
   "display_name": "base",
   "language": "python",
   "name": "base"
  },
  "language_info": {
   "codemirror_mode": {
    "name": "ipython",
    "version": 3
   },
   "file_extension": ".py",
   "mimetype": "text/x-python",
   "name": "python",
   "nbconvert_exporter": "python",
   "pygments_lexer": "ipython3",
   "version": "3.12.11"
  }
 },
 "nbformat": 4,
 "nbformat_minor": 5
}
